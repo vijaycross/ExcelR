{
 "cells": [
  {
   "cell_type": "markdown",
   "id": "1626b8c7",
   "metadata": {},
   "source": [
    "# Problem Statement:"
   ]
  },
  {
   "cell_type": "markdown",
   "id": "ef1ed61d",
   "metadata": {},
   "source": [
    "Build a recommender system by using cosine simillarties score."
   ]
  },
  {
   "cell_type": "markdown",
   "id": "25443e75",
   "metadata": {},
   "source": [
    "## Book recommendations based on correlation"
   ]
  },
  {
   "cell_type": "code",
   "execution_count": 1,
   "id": "949d07aa",
   "metadata": {},
   "outputs": [],
   "source": [
    "# importing basic libraries\n",
    "import numpy as np\n",
    "import pandas as pd\n",
    "import matplotlib.pyplot as plt\n",
    "import seaborn as sns"
   ]
  },
  {
   "cell_type": "code",
   "execution_count": 2,
   "id": "96cb8f31",
   "metadata": {},
   "outputs": [],
   "source": [
    "# loading data\n",
    "data = pd.read_csv('book.csv', encoding='latin1')"
   ]
  },
  {
   "cell_type": "code",
   "execution_count": 3,
   "id": "2700c2a0",
   "metadata": {},
   "outputs": [
    {
     "data": {
      "text/html": [
       "<div>\n",
       "<style scoped>\n",
       "    .dataframe tbody tr th:only-of-type {\n",
       "        vertical-align: middle;\n",
       "    }\n",
       "\n",
       "    .dataframe tbody tr th {\n",
       "        vertical-align: top;\n",
       "    }\n",
       "\n",
       "    .dataframe thead th {\n",
       "        text-align: right;\n",
       "    }\n",
       "</style>\n",
       "<table border=\"1\" class=\"dataframe\">\n",
       "  <thead>\n",
       "    <tr style=\"text-align: right;\">\n",
       "      <th></th>\n",
       "      <th>Unnamed: 0</th>\n",
       "      <th>User.ID</th>\n",
       "      <th>Book.Title</th>\n",
       "      <th>Book.Rating</th>\n",
       "    </tr>\n",
       "  </thead>\n",
       "  <tbody>\n",
       "    <tr>\n",
       "      <th>0</th>\n",
       "      <td>1</td>\n",
       "      <td>276726</td>\n",
       "      <td>Classical Mythology</td>\n",
       "      <td>5</td>\n",
       "    </tr>\n",
       "    <tr>\n",
       "      <th>1</th>\n",
       "      <td>2</td>\n",
       "      <td>276729</td>\n",
       "      <td>Clara Callan</td>\n",
       "      <td>3</td>\n",
       "    </tr>\n",
       "    <tr>\n",
       "      <th>2</th>\n",
       "      <td>3</td>\n",
       "      <td>276729</td>\n",
       "      <td>Decision in Normandy</td>\n",
       "      <td>6</td>\n",
       "    </tr>\n",
       "    <tr>\n",
       "      <th>3</th>\n",
       "      <td>4</td>\n",
       "      <td>276736</td>\n",
       "      <td>Flu: The Story of the Great Influenza Pandemic...</td>\n",
       "      <td>8</td>\n",
       "    </tr>\n",
       "    <tr>\n",
       "      <th>4</th>\n",
       "      <td>5</td>\n",
       "      <td>276737</td>\n",
       "      <td>The Mummies of Urumchi</td>\n",
       "      <td>6</td>\n",
       "    </tr>\n",
       "  </tbody>\n",
       "</table>\n",
       "</div>"
      ],
      "text/plain": [
       "   Unnamed: 0  User.ID                                         Book.Title  \\\n",
       "0           1   276726                                Classical Mythology   \n",
       "1           2   276729                                       Clara Callan   \n",
       "2           3   276729                               Decision in Normandy   \n",
       "3           4   276736  Flu: The Story of the Great Influenza Pandemic...   \n",
       "4           5   276737                             The Mummies of Urumchi   \n",
       "\n",
       "   Book.Rating  \n",
       "0            5  \n",
       "1            3  \n",
       "2            6  \n",
       "3            8  \n",
       "4            6  "
      ]
     },
     "execution_count": 3,
     "metadata": {},
     "output_type": "execute_result"
    }
   ],
   "source": [
    "data.head()"
   ]
  },
  {
   "cell_type": "code",
   "execution_count": 4,
   "id": "3a94565d",
   "metadata": {},
   "outputs": [
    {
     "name": "stdout",
     "output_type": "stream",
     "text": [
      "<class 'pandas.core.frame.DataFrame'>\n",
      "RangeIndex: 10000 entries, 0 to 9999\n",
      "Data columns (total 4 columns):\n",
      " #   Column       Non-Null Count  Dtype \n",
      "---  ------       --------------  ----- \n",
      " 0   Unnamed: 0   10000 non-null  int64 \n",
      " 1   User.ID      10000 non-null  int64 \n",
      " 2   Book.Title   10000 non-null  object\n",
      " 3   Book.Rating  10000 non-null  int64 \n",
      "dtypes: int64(3), object(1)\n",
      "memory usage: 312.6+ KB\n"
     ]
    }
   ],
   "source": [
    "data.info()"
   ]
  },
  {
   "cell_type": "code",
   "execution_count": 5,
   "id": "ec8ac088",
   "metadata": {},
   "outputs": [
    {
     "data": {
      "text/html": [
       "<div>\n",
       "<style scoped>\n",
       "    .dataframe tbody tr th:only-of-type {\n",
       "        vertical-align: middle;\n",
       "    }\n",
       "\n",
       "    .dataframe tbody tr th {\n",
       "        vertical-align: top;\n",
       "    }\n",
       "\n",
       "    .dataframe thead th {\n",
       "        text-align: right;\n",
       "    }\n",
       "</style>\n",
       "<table border=\"1\" class=\"dataframe\">\n",
       "  <thead>\n",
       "    <tr style=\"text-align: right;\">\n",
       "      <th></th>\n",
       "      <th>Unnamed: 0</th>\n",
       "      <th>User.ID</th>\n",
       "      <th>Book.Rating</th>\n",
       "    </tr>\n",
       "  </thead>\n",
       "  <tbody>\n",
       "    <tr>\n",
       "      <th>count</th>\n",
       "      <td>10000.00000</td>\n",
       "      <td>10000.000000</td>\n",
       "      <td>10000.00000</td>\n",
       "    </tr>\n",
       "    <tr>\n",
       "      <th>mean</th>\n",
       "      <td>5000.50000</td>\n",
       "      <td>95321.249800</td>\n",
       "      <td>7.56630</td>\n",
       "    </tr>\n",
       "    <tr>\n",
       "      <th>std</th>\n",
       "      <td>2886.89568</td>\n",
       "      <td>117645.703609</td>\n",
       "      <td>1.82152</td>\n",
       "    </tr>\n",
       "    <tr>\n",
       "      <th>min</th>\n",
       "      <td>1.00000</td>\n",
       "      <td>8.000000</td>\n",
       "      <td>1.00000</td>\n",
       "    </tr>\n",
       "    <tr>\n",
       "      <th>25%</th>\n",
       "      <td>2500.75000</td>\n",
       "      <td>2103.000000</td>\n",
       "      <td>7.00000</td>\n",
       "    </tr>\n",
       "    <tr>\n",
       "      <th>50%</th>\n",
       "      <td>5000.50000</td>\n",
       "      <td>3757.000000</td>\n",
       "      <td>8.00000</td>\n",
       "    </tr>\n",
       "    <tr>\n",
       "      <th>75%</th>\n",
       "      <td>7500.25000</td>\n",
       "      <td>162052.000000</td>\n",
       "      <td>9.00000</td>\n",
       "    </tr>\n",
       "    <tr>\n",
       "      <th>max</th>\n",
       "      <td>10000.00000</td>\n",
       "      <td>278854.000000</td>\n",
       "      <td>10.00000</td>\n",
       "    </tr>\n",
       "  </tbody>\n",
       "</table>\n",
       "</div>"
      ],
      "text/plain": [
       "        Unnamed: 0        User.ID  Book.Rating\n",
       "count  10000.00000   10000.000000  10000.00000\n",
       "mean    5000.50000   95321.249800      7.56630\n",
       "std     2886.89568  117645.703609      1.82152\n",
       "min        1.00000       8.000000      1.00000\n",
       "25%     2500.75000    2103.000000      7.00000\n",
       "50%     5000.50000    3757.000000      8.00000\n",
       "75%     7500.25000  162052.000000      9.00000\n",
       "max    10000.00000  278854.000000     10.00000"
      ]
     },
     "execution_count": 5,
     "metadata": {},
     "output_type": "execute_result"
    }
   ],
   "source": [
    "data.describe()"
   ]
  },
  {
   "cell_type": "markdown",
   "id": "c9315e4f",
   "metadata": {},
   "source": [
    "# EDA"
   ]
  },
  {
   "cell_type": "code",
   "execution_count": 6,
   "id": "399193ea",
   "metadata": {},
   "outputs": [
    {
     "data": {
      "text/plain": [
       "Unnamed: 0     0\n",
       "User.ID        0\n",
       "Book.Title     0\n",
       "Book.Rating    0\n",
       "dtype: int64"
      ]
     },
     "execution_count": 6,
     "metadata": {},
     "output_type": "execute_result"
    }
   ],
   "source": [
    "data.isnull().sum()"
   ]
  },
  {
   "cell_type": "code",
   "execution_count": 7,
   "id": "96ce5447",
   "metadata": {},
   "outputs": [
    {
     "data": {
      "text/plain": [
       "0"
      ]
     },
     "execution_count": 7,
     "metadata": {},
     "output_type": "execute_result"
    }
   ],
   "source": [
    "data.duplicated().sum()"
   ]
  },
  {
   "cell_type": "code",
   "execution_count": 8,
   "id": "2390a533",
   "metadata": {},
   "outputs": [
    {
     "data": {
      "text/plain": [
       "(10000, 4)"
      ]
     },
     "execution_count": 8,
     "metadata": {},
     "output_type": "execute_result"
    }
   ],
   "source": [
    "data.shape"
   ]
  },
  {
   "cell_type": "code",
   "execution_count": 9,
   "id": "a2880ffe",
   "metadata": {},
   "outputs": [
    {
     "data": {
      "image/png": "[encoded data removed]",
      "text/plain": [
       "<Figure size 800x600 with 1 Axes>"
      ]
     },
     "metadata": {},
     "output_type": "display_data"
    }
   ],
   "source": [
    "plt.figure(figsize=(8, 6))\n",
    "sns.histplot(data['Book.Rating'], bins=10, kde=True)\n",
    "plt.title('Distribution of Ratings')\n",
    "plt.xlabel('Rating')\n",
    "plt.ylabel('Frequency')\n",
    "plt.show()"
   ]
  },
  {
   "cell_type": "code",
   "execution_count": 10,
   "id": "ce461146",
   "metadata": {},
   "outputs": [],
   "source": [
    "df1 = data.iloc[:,1:]"
   ]
  },
  {
   "cell_type": "code",
   "execution_count": 11,
   "id": "55d77531",
   "metadata": {},
   "outputs": [],
   "source": [
    "df1.columns = ['userID', 'title', 'rating']"
   ]
  },
  {
   "cell_type": "code",
   "execution_count": 12,
   "id": "ed4a816d",
   "metadata": {},
   "outputs": [
    {
     "data": {
      "text/html": [
       "<div>\n",
       "<style scoped>\n",
       "    .dataframe tbody tr th:only-of-type {\n",
       "        vertical-align: middle;\n",
       "    }\n",
       "\n",
       "    .dataframe tbody tr th {\n",
       "        vertical-align: top;\n",
       "    }\n",
       "\n",
       "    .dataframe thead th {\n",
       "        text-align: right;\n",
       "    }\n",
       "</style>\n",
       "<table border=\"1\" class=\"dataframe\">\n",
       "  <thead>\n",
       "    <tr style=\"text-align: right;\">\n",
       "      <th></th>\n",
       "      <th>userID</th>\n",
       "      <th>title</th>\n",
       "      <th>rating</th>\n",
       "    </tr>\n",
       "  </thead>\n",
       "  <tbody>\n",
       "    <tr>\n",
       "      <th>0</th>\n",
       "      <td>276726</td>\n",
       "      <td>Classical Mythology</td>\n",
       "      <td>5</td>\n",
       "    </tr>\n",
       "    <tr>\n",
       "      <th>1</th>\n",
       "      <td>276729</td>\n",
       "      <td>Clara Callan</td>\n",
       "      <td>3</td>\n",
       "    </tr>\n",
       "    <tr>\n",
       "      <th>2</th>\n",
       "      <td>276729</td>\n",
       "      <td>Decision in Normandy</td>\n",
       "      <td>6</td>\n",
       "    </tr>\n",
       "    <tr>\n",
       "      <th>3</th>\n",
       "      <td>276736</td>\n",
       "      <td>Flu: The Story of the Great Influenza Pandemic...</td>\n",
       "      <td>8</td>\n",
       "    </tr>\n",
       "    <tr>\n",
       "      <th>4</th>\n",
       "      <td>276737</td>\n",
       "      <td>The Mummies of Urumchi</td>\n",
       "      <td>6</td>\n",
       "    </tr>\n",
       "  </tbody>\n",
       "</table>\n",
       "</div>"
      ],
      "text/plain": [
       "   userID                                              title  rating\n",
       "0  276726                                Classical Mythology       5\n",
       "1  276729                                       Clara Callan       3\n",
       "2  276729                               Decision in Normandy       6\n",
       "3  276736  Flu: The Story of the Great Influenza Pandemic...       8\n",
       "4  276737                             The Mummies of Urumchi       6"
      ]
     },
     "execution_count": 12,
     "metadata": {},
     "output_type": "execute_result"
    }
   ],
   "source": [
    "df1.head()"
   ]
  },
  {
   "cell_type": "code",
   "execution_count": 13,
   "id": "d8b6a5b0",
   "metadata": {},
   "outputs": [
    {
     "name": "stdout",
     "output_type": "stream",
     "text": [
      "# of records: 10000\n",
      "# of books: 9659\n",
      "# of users: 2182\n"
     ]
    }
   ],
   "source": [
    "# Explore dataset\n",
    "print('# of records:', len(df1))\n",
    "print('# of books:', len(df1['title'].unique()))\n",
    "print('# of users:', len(df1['userID'].unique()))"
   ]
  },
  {
   "cell_type": "code",
   "execution_count": 14,
   "id": "a4f85ff7",
   "metadata": {},
   "outputs": [
    {
     "data": {
      "image/png": "[encoded data removed]",
      "text/plain": [
       "<Figure size 1000x600 with 1 Axes>"
      ]
     },
     "metadata": {},
     "output_type": "display_data"
    }
   ],
   "source": [
    "# Visualize the distribution of book ratings\n",
    "plt.figure(figsize=(10, 6))\n",
    "sns.countplot(x='rating', data=df1, palette=sns.color_palette(\"RdBu\", 10))\n",
    "plt.title('Distribution of book ratings')\n",
    "plt.show()"
   ]
  },
  {
   "cell_type": "code",
   "execution_count": 15,
   "id": "a905b513",
   "metadata": {},
   "outputs": [],
   "source": [
    "# Build a book-user rating matrix\n",
    "rating_matrix = df1.pivot_table(index='userID', columns='title', values='rating', fill_value=0)"
   ]
  },
  {
   "cell_type": "code",
   "execution_count": 16,
   "id": "da836f94",
   "metadata": {},
   "outputs": [],
   "source": [
    "# Calculate book correlations\n",
    "book_correlations = np.corrcoef(rating_matrix.T)"
   ]
  },
  {
   "cell_type": "code",
   "execution_count": 17,
   "id": "05e440d1",
   "metadata": {},
   "outputs": [],
   "source": [
    "# Function to get book recommendations based on correlation\n",
    "def get_recommendations(books_list):\n",
    "    book_similarities = np.zeros(book_correlations.shape[0])\n",
    "\n",
    "    for book in books_list:\n",
    "        book_index = df1['title'].tolist().index(book)\n",
    "        book_similarities += book_correlations[book_index]\n",
    "\n",
    "    book_preferences = [(book, similarity) for book, similarity in zip(df1['title'].unique(), book_similarities)]\n",
    "    sorted_preferences = sorted(book_preferences, key=lambda x: x[1], reverse=True)\n",
    "    return sorted_preferences[:10]"
   ]
  },
  {
   "cell_type": "code",
   "execution_count": 18,
   "id": "8b626ff0",
   "metadata": {},
   "outputs": [
    {
     "name": "stdout",
     "output_type": "stream",
     "text": [
      "Top 10 book recommendations for User 276747:\n",
      "Book: Nights Below Station Street, Similarity: 0.9982\n",
      "Book: Hitler's Secret Bankers: The Myth of Swiss Neutrality During the Holocaust, Similarity: 0.9982\n",
      "Book: Prescription for Terror, Similarity: 0.9982\n",
      "Book: The Amber Spyglass (His Dark Materials, Book 3), Similarity: 0.9982\n",
      "Book: The Snow Garden, Similarity: 0.9982\n",
      "Book: The Doorbell Rang (The Best Mysteries of All Time), Similarity: 0.9982\n",
      "Book: TrÃ nsit (Area contemporÃ nia), Similarity: 0.9982\n",
      "Book: And Never Let Her Go : Thomas Capano: The Deadly Seducer, Similarity: 0.9982\n",
      "Book: The True and Outstanding Adventures of the Hunt Sisters: A Novel, Similarity: 0.9982\n",
      "Book: Suzanne's Diary for Nicholas, Similarity: 0.9982\n"
     ]
    }
   ],
   "source": [
    "# Get recommendations for a specific user or favorite books\n",
    "user_id = 276747\n",
    "user_books = df1[df1['userID'] == user_id]['title'].unique()\n",
    "recommended_books = get_recommendations(user_books)\n",
    "\n",
    "print(f\"Top 10 book recommendations for User {user_id}:\")\n",
    "for book, similarity in recommended_books:\n",
    "    print(f\"Book: {book}, Similarity: {similarity:.4f}\")"
   ]
  },
  {
   "cell_type": "code",
   "execution_count": 19,
   "id": "809972b3",
   "metadata": {},
   "outputs": [
    {
     "name": "stdout",
     "output_type": "stream",
     "text": [
      "\n",
      "Top 10 book recommendations based on my favorite books:\n",
      "Book: Classical Mythology, Similarity: 2.0000\n",
      "Book: Clara Callan, Similarity: 2.0000\n",
      "Book: Decision in Normandy, Similarity: 2.0000\n",
      "Book: The Unknown Errors of Our Lives: Stories, Similarity: 2.0000\n",
      "Book: Stud (Harlequin Temptations, No 357), Similarity: 2.0000\n",
      "Book: Citizens: A Chronicle of the French Revolution, Similarity: -0.0009\n",
      "Book: Deus Irae, Similarity: -0.0009\n",
      "Book: Climbing Mt. Shasta: Route 1, Avalanche Gulch, Similarity: -0.0009\n",
      "Book: Indigo 1: Nemesis (Indigo Series), Similarity: -0.0009\n",
      "Book: The Biggest House in the World (Knopf Children's Paperbacks), Similarity: -0.0009\n"
     ]
    }
   ],
   "source": [
    "# Example: Recommendations based on favorite books\n",
    "my_fav_books = ['Classical Mythology', 'Clara Callan']\n",
    "recommended_books = get_recommendations(my_fav_books)\n",
    "\n",
    "print('\\nTop 10 book recommendations based on my favorite books:')\n",
    "for book, similarity in recommended_books:\n",
    "    print(f\"Book: {book}, Similarity: {similarity:.4f}\")\n"
   ]
  },
  {
   "cell_type": "markdown",
   "id": "4d0e0ea6",
   "metadata": {},
   "source": [
    "## Book recommendation system using cosine similarity:"
   ]
  },
  {
   "cell_type": "code",
   "execution_count": 20,
   "id": "0e8969b5",
   "metadata": {},
   "outputs": [],
   "source": [
    "from sklearn.metrics.pairwise import cosine_similarity\n",
    "from sklearn.metrics import pairwise_distances"
   ]
  },
  {
   "cell_type": "code",
   "execution_count": 21,
   "id": "6c420bdd",
   "metadata": {},
   "outputs": [],
   "source": [
    "# Data Pre-Processing\n",
    "data.rename(columns={'Unnamed: 0': 'index', 'User.ID': 'user_id', 'Book.Title': 'title', 'Book.Rating': 'rating'}, inplace=True)\n",
    "data.set_index('index', inplace=True)"
   ]
  },
  {
   "cell_type": "code",
   "execution_count": 22,
   "id": "a99d6d3c",
   "metadata": {},
   "outputs": [],
   "source": [
    "# Collaborative Book Recommendation System\n",
    "# Item-Based Collaborative Filtering\n",
    "user_data_df = data.pivot_table(index='user_id', columns='title', values='rating').fillna(0)"
   ]
  },
  {
   "cell_type": "code",
   "execution_count": 23,
   "id": "daf3a979",
   "metadata": {},
   "outputs": [],
   "source": [
    "# Calculate Cosine Similarity between Users\n",
    "user_sim = 1 - pairwise_distances(user_data_df.values, metric='cosine')\n",
    "user_sim_df = pd.DataFrame(user_sim, index=user_data_df.index, columns=user_data_df.index)\n",
    "np.fill_diagonal(user_sim, 0)"
   ]
  },
  {
   "cell_type": "code",
   "execution_count": 24,
   "id": "ac711566",
   "metadata": {},
   "outputs": [],
   "source": [
    "# Recommend data based on Cosine Similarity\n",
    "def recommend_data(user_id):\n",
    "    similar_users = user_sim_df.sort_values(user_id, ascending=False).head(100).index\n",
    "    recommended_data = set()\n",
    "    \n",
    "    for similar_user in similar_users:\n",
    "        user_data = data[data['user_id'] == similar_user]['title']\n",
    "        recommended_data.update(user_data)\n",
    "    \n",
    "    user_data_read = data[data['user_id'] == user_id]['title']\n",
    "    recommendations = recommended_data - set(user_data_read)\n",
    "    \n",
    "    return recommendations"
   ]
  },
  {
   "cell_type": "code",
   "execution_count": 25,
   "id": "757686c1",
   "metadata": {},
   "outputs": [],
   "source": [
    "# Example usage:\n",
    "recommended_data_for_user_14 = recommend_data(14)\n",
    "recommended_data_for_user_8 = recommend_data(8)"
   ]
  },
  {
   "cell_type": "code",
   "execution_count": 26,
   "id": "fd7334a7",
   "metadata": {},
   "outputs": [
    {
     "name": "stdout",
     "output_type": "stream",
     "text": [
      "Recommended data for User 14:\n",
      "                                                     0\n",
      "0                              Interpreter of Maladies\n",
      "1                       Nights in the Gardens of Spain\n",
      "2                           Fire Wall (Checkered Flag)\n",
      "3    Fresh For '01... You Suckas: A Boondocks Colle...\n",
      "4                     Prince: And Other Dogs 1850-1940\n",
      "..                                                 ...\n",
      "477  She's Gone Country: Dispatches from a Lost Sou...\n",
      "478                                       Modern Women\n",
      "479   No More Dying Then! (Vintage Crime/Black Lizard)\n",
      "480  Jaguars Ripped My Flesh: Adventure Is a Risky ...\n",
      "481                          Lee Wade's Korean Cookery\n",
      "\n",
      "[482 rows x 1 columns]\n"
     ]
    }
   ],
   "source": [
    "print(\"Recommended data for User 14:\")\n",
    "print(pd.DataFrame(recommended_data_for_user_14))"
   ]
  },
  {
   "cell_type": "code",
   "execution_count": 27,
   "id": "fdd5947f",
   "metadata": {},
   "outputs": [
    {
     "name": "stdout",
     "output_type": "stream",
     "text": [
      "\n",
      "Recommended data for User 8:\n",
      "                                                     0\n",
      "0                              Interpreter of Maladies\n",
      "1                       Nights in the Gardens of Spain\n",
      "2                           Fire Wall (Checkered Flag)\n",
      "3    Fresh For '01... You Suckas: A Boondocks Colle...\n",
      "4                     Prince: And Other Dogs 1850-1940\n",
      "..                                                 ...\n",
      "470  She's Gone Country: Dispatches from a Lost Sou...\n",
      "471                                       Modern Women\n",
      "472   No More Dying Then! (Vintage Crime/Black Lizard)\n",
      "473  Jaguars Ripped My Flesh: Adventure Is a Risky ...\n",
      "474                          Lee Wade's Korean Cookery\n",
      "\n",
      "[475 rows x 1 columns]\n"
     ]
    }
   ],
   "source": [
    "print(\"\\nRecommended data for User 8:\")\n",
    "print(pd.DataFrame(recommended_data_for_user_8))"
   ]
  },
  {
   "cell_type": "code",
   "execution_count": null,
   "id": "86f2ed60",
   "metadata": {},
   "outputs": [],
   "source": []
  }
 ],
 "metadata": {
  "kernelspec": {
   "display_name": "Python 3 (ipykernel)",
   "language": "python",
   "name": "python3"
  },
  "language_info": {
   "codemirror_mode": {
    "name": "ipython",
    "version": 3
   },
   "file_extension": ".py",
   "mimetype": "text/x-python",
   "name": "python",
   "nbconvert_exporter": "python",
   "pygments_lexer": "ipython3",
   "version": "3.10.9"
  }
 },
 "nbformat": 4,
 "nbformat_minor": 5
}
